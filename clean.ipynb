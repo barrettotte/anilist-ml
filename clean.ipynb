{
 "cells": [
  {
   "cell_type": "markdown",
   "metadata": {},
   "source": [
    "# Clean\n",
    "\n",
    "Clean up and remove unnecessary Anilist data"
   ]
  },
  {
   "cell_type": "code",
   "execution_count": 121,
   "metadata": {},
   "outputs": [],
   "source": [
    "import csv\n",
    "import json\n",
    "import os\n",
    "import pandas as pd\n",
    "from pandas import DataFrame\n",
    "from datetime import datetime\n",
    "\n",
    "data_dir = os.path.abspath('data')\n",
    "# today = datetime.today().strftime('%Y%m%d')\n",
    "today = datetime.strptime('2022-09-27', '%Y-%m-%d').strftime('%Y%m%d')\n",
    "\n",
    "anime_df = pd.read_csv(os.path.join(data_dir, f'anime-{today}-raw.csv'), parse_dates=[8,9])\n",
    "user_df = pd.read_csv(os.path.join(data_dir, f'user-{today}-raw.csv'), parse_dates=[4])"
   ]
  },
  {
   "cell_type": "markdown",
   "metadata": {},
   "source": [
    "## Check Missing Data"
   ]
  },
  {
   "cell_type": "code",
   "execution_count": 122,
   "metadata": {},
   "outputs": [
    {
     "name": "stdout",
     "output_type": "stream",
     "text": [
      "Missing User Data:\n",
      "             percent_missing\n",
      "completedAt            15.22\n",
      "\n",
      "Missing Anime Data:\n",
      "                     percent_missing\n",
      "next_airing_episode            99.34\n",
      "title_english                  52.40\n",
      "studios                        46.67\n",
      "season                         32.79\n",
      "season_year                    32.79\n",
      "season_int                     31.50\n",
      "average_score                  29.68\n",
      "tags                           23.68\n",
      "source                         14.25\n",
      "genres                         13.92\n",
      "description                     5.87\n",
      "end_date                        2.06\n",
      "title_native                    1.47\n",
      "duration_mins                   1.28\n",
      "episodes                        0.74\n",
      "mean_score                      0.15\n",
      "start_date                      0.03\n",
      "format                          0.01\n"
     ]
    }
   ],
   "source": [
    "def get_missing(df: DataFrame) -> DataFrame:\n",
    "    df = DataFrame(data=df.isnull().mean().round(4).mul(100).sort_values(ascending=False), columns=['percent_missing'])\n",
    "    return df[df['percent_missing'] > 0]\n",
    "\n",
    "def get_missing_user(df: DataFrame) -> DataFrame:\n",
    "    return get_missing(df[df['status'].isin(['COMPLETED','CURRENT'])])\n",
    "\n",
    "def get_missing_anime(df: DataFrame) -> DataFrame:\n",
    "    df['genres'] = df['genres'].mask(df['genres'] == '[]', None)\n",
    "    df['tags'] = df['tags'].mask(df['tags'] == '[]', None)\n",
    "    df['studios'] = df['studios'].mask(df['studios'] == '[]', None)\n",
    "    return get_missing(df[df['status'].isin(['FINISHED','RELEASING'])])\n",
    "\n",
    "print(f\"Missing User Data:\\n{get_missing_user(user_df)}\\n\")\n",
    "print(f\"Missing Anime Data:\\n{get_missing_anime(anime_df)}\")"
   ]
  },
  {
   "cell_type": "markdown",
   "metadata": {},
   "source": [
    "## Clean User Data"
   ]
  },
  {
   "cell_type": "code",
   "execution_count": 123,
   "metadata": {},
   "outputs": [],
   "source": [
    "def clean_user_data(df: DataFrame) -> DataFrame:\n",
    "    return df.drop('completedAt', axis=1, errors='ignore')\n",
    "\n",
    "user_df = clean_user_data(user_df)"
   ]
  },
  {
   "cell_type": "markdown",
   "metadata": {},
   "source": [
    "## Clean Anime Data"
   ]
  },
  {
   "cell_type": "code",
   "execution_count": 124,
   "metadata": {},
   "outputs": [],
   "source": [
    "def fill_season(dt: datetime) -> str:\n",
    "    if dt.month >= 9 and dt.month <= 11:\n",
    "        return 'FALL'\n",
    "    elif dt.month >= 6 and dt.month <= 8:\n",
    "        return 'SUMMER'\n",
    "    elif dt.month >= 3 and dt.month <= 5:\n",
    "        return 'SPRING'\n",
    "    else:\n",
    "        return 'WINTER'\n",
    "    \n",
    "def fill_season_year(dt: datetime) -> int:\n",
    "    return \n",
    "\n",
    "def extract_names(s: str) -> str:\n",
    "    return json.dumps([s['name'] for s in json.loads(s)]) if s else None\n",
    "\n",
    "def test_df(x):\n",
    "    print(type(x))\n",
    "\n",
    "def clean_anime_data(df: DataFrame) -> DataFrame:\n",
    "    # drop unusable columns\n",
    "    df.drop([\n",
    "        'title_english', 'title_romaji', 'title_native', 'type', 'description',\n",
    "        'popularity', 'mean_score', 'average_score', 'season_int', 'end_date'\n",
    "    ], axis=1, errors='ignore', inplace=True)\n",
    "\n",
    "    # drop unusable rows\n",
    "    # df.drop(df[~df['status'].isin(['FINISHED','RELEASING'])].index, axis=0, inplace=True)\n",
    "    # df.drop(df[~df['format'].isin(['TV','MOVIE','SPECIAL','ONA','OVA'])].index, axis=0, inplace=True)\n",
    "    # df.dropna(subset=['duration_mins'], inplace=True)\n",
    "\n",
    "    # fix remaining data\n",
    "    # df['season'] = df.filter(['season','start_date'])[df['season'].isnull()].apply(lambda x: fill_season(x['start_date']), axis=1)\n",
    "    # df['season_year'] = df.filter(['season','start_date'])[df['season'].isnull()].apply(lambda x: x['start_date'].year, axis=1)\n",
    "    # df['studios'] = df[~df['studios'].isnull()].apply(lambda x: extract_names(x['studios']), axis=1)\n",
    "    # df['tags'] = df[~df['tags'].isnull()].apply(lambda x: extract_names(x['tags']), axis=1)\n",
    "\n",
    "    df['source'] = df['source'].fillna('OTHER')\n",
    "    df['season'] = df['season'].fillna(df['start_date'].apply(fill_season))\n",
    "    df['season_year'] = df['season_year'].fillna(df['start_date'].apply(lambda x: x.year if x else None))\n",
    "    df['studios'] = df['studios'].apply(extract_names)\n",
    "    df['tags'] = df['tags'].apply(extract_names)\n",
    "    \n",
    "    # df['studios'] = df['studios'].fillna(df['studios'].apply(lambda x: extract_names(x['studios'])))\n",
    "    # print(df.head(3))\n",
    "\n",
    "    # TODO: df['season'] = fill_season(df['start_date'])\n",
    "    # TODO: df['season_year'] = df['start_date'].year\n",
    "    # TODO: df['episodes'] = df['next_airing_episodes']\n",
    "\n",
    "    # drop definitiely unusable rows\n",
    "    df.dropna(subset=['episodes'], inplace=True)\n",
    "\n",
    "    # drop vestigial data\n",
    "    df.drop(['next_airing_episode'], axis=1, errors='ignore', inplace=True)\n",
    "    #'start_date'\n",
    "\n",
    "    return df\n",
    "\n",
    "anime_df = clean_anime_data(anime_df)"
   ]
  },
  {
   "cell_type": "markdown",
   "metadata": {},
   "source": [
    "## Verify Missing Data Resolved"
   ]
  },
  {
   "cell_type": "code",
   "execution_count": 125,
   "metadata": {},
   "outputs": [
    {
     "name": "stdout",
     "output_type": "stream",
     "text": [
      "Missing User Data:\n",
      "Empty DataFrame\n",
      "Columns: [percent_missing]\n",
      "Index: []\n",
      "\n",
      "Missing Anime Data:\n",
      "               percent_missing\n",
      "studios                  46.71\n",
      "tags                     23.68\n",
      "genres                   13.97\n",
      "duration_mins             1.12\n",
      "start_date                0.03\n",
      "season_year               0.03\n"
     ]
    }
   ],
   "source": [
    "print(f\"Missing User Data:\\n{get_missing_user(user_df)}\\n\")\n",
    "print(f\"Missing Anime Data:\\n{get_missing_anime(anime_df)}\")"
   ]
  },
  {
   "cell_type": "markdown",
   "metadata": {},
   "source": [
    "# Combine Anime and User Data"
   ]
  },
  {
   "cell_type": "code",
   "execution_count": 126,
   "metadata": {},
   "outputs": [
    {
     "name": "stdout",
     "output_type": "stream",
     "text": [
      "Missing Data (before):\n",
      "               percent_missing\n",
      "studios                   3.64\n",
      "duration_mins             0.33\n",
      "genres                    0.17\n",
      "\n",
      "Missing Data (after):\n",
      "Empty DataFrame\n",
      "Columns: [percent_missing]\n",
      "Index: []\n",
      "\n",
      "193 rows dropped\n",
      "567 rows written\n"
     ]
    }
   ],
   "source": [
    "combined_df = pd.merge(user_df[user_df['status'].isin(['CURRENT','COMPLETED'])], anime_df, left_on='media_id', right_on='id', how='inner')\n",
    "print(f\"Missing Data (before):\\n{get_missing(combined_df)}\\n\")\n",
    "\n",
    "combined_df.drop(combined_df[combined_df['score'] == 0].index, axis=0, inplace=True)\n",
    "combined_df.dropna(subset=['genres'], inplace=True)\n",
    "combined_df.dropna(subset=['studios'], inplace=True)\n",
    "\n",
    "print(f\"Missing Data (after):\\n{get_missing(combined_df)}\\n\")\n",
    "combined_df.to_csv(os.path.join(data_dir, f'user-{today}-enriched.csv'))\n",
    "\n",
    "print(user_df.shape[0] - combined_df.shape[0], 'rows dropped')\n",
    "print(f'{combined_df.shape[0]}', 'rows written')"
   ]
  }
 ],
 "metadata": {
  "kernelspec": {
   "display_name": "Python 3.10.4 64-bit",
   "language": "python",
   "name": "python3"
  },
  "language_info": {
   "codemirror_mode": {
    "name": "ipython",
    "version": 3
   },
   "file_extension": ".py",
   "mimetype": "text/x-python",
   "name": "python",
   "nbconvert_exporter": "python",
   "pygments_lexer": "ipython3",
   "version": "3.10.4"
  },
  "orig_nbformat": 4,
  "vscode": {
   "interpreter": {
    "hash": "916dbcbb3f70747c44a77c7bcd40155683ae19c65e1c03b4aa3499c5328201f1"
   }
  }
 },
 "nbformat": 4,
 "nbformat_minor": 2
}
