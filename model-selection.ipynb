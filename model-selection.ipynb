{
 "cells": [
  {
   "cell_type": "markdown",
   "metadata": {},
   "source": [
    "# Model Selection\n",
    "\n",
    "Testing out different models and selecting what seems to perform the best."
   ]
  },
  {
   "cell_type": "markdown",
   "metadata": {},
   "source": [
    "## Setup"
   ]
  },
  {
   "cell_type": "code",
   "execution_count": 61,
   "metadata": {},
   "outputs": [
    {
     "name": "stdout",
     "output_type": "stream",
     "text": [
      "user 556 rows\n"
     ]
    }
   ],
   "source": [
    "import csv\n",
    "import json\n",
    "import os\n",
    "import pandas as pd\n",
    "from pandas import DataFrame\n",
    "from datetime import datetime\n",
    "\n",
    "data_dir = os.path.abspath('data')\n",
    "# today = datetime.today().strftime('%Y%m%d')\n",
    "today = datetime.strptime('2022-09-27', '%Y-%m-%d').strftime('%Y%m%d')\n",
    "\n",
    "user_df = pd.read_csv(os.path.join(data_dir, f'user-{today}-enriched.csv'))\n",
    "\n",
    "print('user', user_df.shape[0], 'rows')"
   ]
  },
  {
   "cell_type": "code",
   "execution_count": 62,
   "metadata": {},
   "outputs": [
    {
     "name": "stdout",
     "output_type": "stream",
     "text": [
      "<class 'pandas.core.frame.DataFrame'>\n",
      "RangeIndex: 556 entries, 0 to 555\n",
      "Data columns (total 10 columns):\n",
      " #   Column       Non-Null Count  Dtype  \n",
      "---  ------       --------------  -----  \n",
      " 0   score        556 non-null    int64  \n",
      " 1   id           556 non-null    int64  \n",
      " 2   format       556 non-null    object \n",
      " 3   season       556 non-null    object \n",
      " 4   season_year  556 non-null    float64\n",
      " 5   episodes     556 non-null    float64\n",
      " 6   genres       556 non-null    object \n",
      " 7   source       556 non-null    object \n",
      " 8   tags         556 non-null    object \n",
      " 9   studios      556 non-null    object \n",
      "dtypes: float64(2), int64(2), object(6)\n",
      "memory usage: 43.6+ KB\n"
     ]
    }
   ],
   "source": [
    "user_df.info()"
   ]
  },
  {
   "cell_type": "code",
   "execution_count": 63,
   "metadata": {},
   "outputs": [
    {
     "data": {
      "text/html": [
       "<div>\n",
       "<style scoped>\n",
       "    .dataframe tbody tr th:only-of-type {\n",
       "        vertical-align: middle;\n",
       "    }\n",
       "\n",
       "    .dataframe tbody tr th {\n",
       "        vertical-align: top;\n",
       "    }\n",
       "\n",
       "    .dataframe thead th {\n",
       "        text-align: right;\n",
       "    }\n",
       "</style>\n",
       "<table border=\"1\" class=\"dataframe\">\n",
       "  <thead>\n",
       "    <tr style=\"text-align: right;\">\n",
       "      <th></th>\n",
       "      <th>score</th>\n",
       "      <th>id</th>\n",
       "      <th>season_year</th>\n",
       "      <th>episodes</th>\n",
       "    </tr>\n",
       "  </thead>\n",
       "  <tbody>\n",
       "    <tr>\n",
       "      <th>count</th>\n",
       "      <td>556.000000</td>\n",
       "      <td>556.000000</td>\n",
       "      <td>556.000000</td>\n",
       "      <td>556.000000</td>\n",
       "    </tr>\n",
       "    <tr>\n",
       "      <th>mean</th>\n",
       "      <td>6.969424</td>\n",
       "      <td>46938.041367</td>\n",
       "      <td>2013.079137</td>\n",
       "      <td>14.302158</td>\n",
       "    </tr>\n",
       "    <tr>\n",
       "      <th>std</th>\n",
       "      <td>1.528398</td>\n",
       "      <td>46407.064461</td>\n",
       "      <td>7.724830</td>\n",
       "      <td>48.325906</td>\n",
       "    </tr>\n",
       "    <tr>\n",
       "      <th>min</th>\n",
       "      <td>1.000000</td>\n",
       "      <td>1.000000</td>\n",
       "      <td>1984.000000</td>\n",
       "      <td>1.000000</td>\n",
       "    </tr>\n",
       "    <tr>\n",
       "      <th>25%</th>\n",
       "      <td>6.000000</td>\n",
       "      <td>10082.000000</td>\n",
       "      <td>2011.000000</td>\n",
       "      <td>1.000000</td>\n",
       "    </tr>\n",
       "    <tr>\n",
       "      <th>50%</th>\n",
       "      <td>7.000000</td>\n",
       "      <td>21054.500000</td>\n",
       "      <td>2015.000000</td>\n",
       "      <td>12.000000</td>\n",
       "    </tr>\n",
       "    <tr>\n",
       "      <th>75%</th>\n",
       "      <td>8.000000</td>\n",
       "      <td>100170.000000</td>\n",
       "      <td>2018.000000</td>\n",
       "      <td>13.000000</td>\n",
       "    </tr>\n",
       "    <tr>\n",
       "      <th>max</th>\n",
       "      <td>10.000000</td>\n",
       "      <td>142329.000000</td>\n",
       "      <td>2022.000000</td>\n",
       "      <td>1035.000000</td>\n",
       "    </tr>\n",
       "  </tbody>\n",
       "</table>\n",
       "</div>"
      ],
      "text/plain": [
       "            score             id  season_year     episodes\n",
       "count  556.000000     556.000000   556.000000   556.000000\n",
       "mean     6.969424   46938.041367  2013.079137    14.302158\n",
       "std      1.528398   46407.064461     7.724830    48.325906\n",
       "min      1.000000       1.000000  1984.000000     1.000000\n",
       "25%      6.000000   10082.000000  2011.000000     1.000000\n",
       "50%      7.000000   21054.500000  2015.000000    12.000000\n",
       "75%      8.000000  100170.000000  2018.000000    13.000000\n",
       "max     10.000000  142329.000000  2022.000000  1035.000000"
      ]
     },
     "execution_count": 63,
     "metadata": {},
     "output_type": "execute_result"
    }
   ],
   "source": [
    "user_df.describe()"
   ]
  },
  {
   "cell_type": "markdown",
   "metadata": {},
   "source": [
    "## Encode Categorical Data"
   ]
  },
  {
   "cell_type": "code",
   "execution_count": 64,
   "metadata": {},
   "outputs": [
    {
     "name": "stdout",
     "output_type": "stream",
     "text": [
      "   id  score format  season  season_year  episodes  \\\n",
      "0   1      9     TV  SPRING       1998.0      26.0   \n",
      "\n",
      "                               genres    source  \\\n",
      "0  [ACTION, ADVENTURE, DRAMA, SCI-FI]  ORIGINAL   \n",
      "\n",
      "                                                tags      studios  ...  \\\n",
      "0  [\"SPACE\", \"CRIME\", \"EPISODIC\", \"ENSEMBLE CAST\"...  [\"SUNRISE\"]  ...   \n",
      "\n",
      "   genre_MECHA  genre_MUSIC  genre_MYSTERY  genre_PSYCHOLOGICAL  \\\n",
      "0            0            0              0                    0   \n",
      "\n",
      "   genre_ROMANCE  genre_SCI-FI  genre_SLICE OF LIFE  genre_SPORTS  \\\n",
      "0              0             1                    0             0   \n",
      "\n",
      "   genre_SUPERNATURAL  genre_THRILLER  \n",
      "0                   0               0  \n",
      "\n",
      "[1 rows x 28 columns]\n"
     ]
    }
   ],
   "source": [
    "# TODO: Explode genres, tags, studios ???\n",
    "# TODO: categorical encoding\n",
    "\n",
    "\n",
    "\n",
    "def encode_col_array(df: DataFrame, col: str) -> DataFrame:\n",
    "    df[col] = df[col].apply(json.loads)\n",
    "    exploded = df.explode(col) # expand to multiple rows\n",
    "\n",
    "    # one hot encode exploded rows\n",
    "    one_hot = pd.concat([df, pd.get_dummies(exploded[col], prefix='genre', prefix_sep='_')], axis=1)\n",
    "    return one_hot.groupby('id').max().reset_index()\n",
    "\n",
    "user_df = encode_col_array(user_df, 'genres')\n",
    "\n",
    "pd.set_option('display.max_rows', len(user_df))\n",
    "print(user_df.head(1))"
   ]
  },
  {
   "cell_type": "code",
   "execution_count": null,
   "metadata": {},
   "outputs": [],
   "source": []
  }
 ],
 "metadata": {
  "kernelspec": {
   "display_name": "Python 3.10.4 64-bit",
   "language": "python",
   "name": "python3"
  },
  "language_info": {
   "codemirror_mode": {
    "name": "ipython",
    "version": 3
   },
   "file_extension": ".py",
   "mimetype": "text/x-python",
   "name": "python",
   "nbconvert_exporter": "python",
   "pygments_lexer": "ipython3",
   "version": "3.10.4"
  },
  "orig_nbformat": 4,
  "vscode": {
   "interpreter": {
    "hash": "916dbcbb3f70747c44a77c7bcd40155683ae19c65e1c03b4aa3499c5328201f1"
   }
  }
 },
 "nbformat": 4,
 "nbformat_minor": 2
}
