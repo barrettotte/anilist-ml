{
 "cells": [
  {
   "cell_type": "markdown",
   "metadata": {},
   "source": [
    "# Fetch Data\n",
    "\n",
    "Fetches all Anilist data needed for practicing data visualization and machine learning."
   ]
  },
  {
   "cell_type": "code",
   "execution_count": 4,
   "metadata": {},
   "outputs": [],
   "source": [
    "import csv\n",
    "import json\n",
    "import os\n",
    "from datetime import datetime\n",
    "from anilist_fetch import fetch as anilist\n",
    "\n",
    "# setup\n",
    "data_dir = os.path.abspath('data')\n",
    "if not os.path.exists(data_dir):\n",
    "    os.makedirs(data_dir)"
   ]
  },
  {
   "cell_type": "markdown",
   "metadata": {},
   "source": [
    "## Fetch User Data"
   ]
  },
  {
   "cell_type": "code",
   "execution_count": 2,
   "metadata": {},
   "outputs": [
    {
     "name": "stdout",
     "output_type": "stream",
     "text": [
      "{'name': 'barrettotte', 'createdAt': 1552085204, 'statistics': {'anime': {'count': 605, 'meanScore': 68.93, 'standardDeviation': 15.9, 'minutesWatched': 198339, 'episodesWatched': 8119}}}\n"
     ]
    }
   ],
   "source": [
    "ANILIST_USER_ID = 247578\n",
    "user = anilist.get_user(ANILIST_USER_ID)\n",
    "print(user['user'])\n",
    "\n",
    "# write user anime entries to CSV\n",
    "with open(os.path.join(data_dir, f\"user-{ANILIST_USER_ID}-entries.csv\"), 'w+', encoding='utf-8') as f:\n",
    "    writer = csv.writer(f)\n",
    "    writer.writerow(['id', 'status', 'score', 'progress', 'completedAt', 'media_id'])\n",
    "\n",
    "    for media_list in user['lists']:\n",
    "        for entry in media_list['entries']:\n",
    "            data = [\n",
    "                entry['id'],\n",
    "                entry['status'],\n",
    "                entry['score'],\n",
    "                entry['progress'],\n",
    "                None,\n",
    "                entry['media']['id']\n",
    "            ]\n",
    "            completed_at = entry['completedAt']\n",
    "\n",
    "            if completed_at['year'] and completed_at['month'] and completed_at['day']:\n",
    "                data[4] = f\"{completed_at['month']:02d}-{completed_at['day']:02d}-{completed_at['year']}\"\n",
    "\n",
    "            writer.writerow(data)"
   ]
  },
  {
   "cell_type": "markdown",
   "metadata": {},
   "source": [
    "## Fetch All Anime Entries"
   ]
  },
  {
   "cell_type": "code",
   "execution_count": 5,
   "metadata": {},
   "outputs": [
    {
     "name": "stdout",
     "output_type": "stream",
     "text": [
      "Downloading page 316 => Entries 15751-1580015751 entries downloaded\n"
     ]
    }
   ],
   "source": [
    "start_date = datetime.strptime('19000101', '%Y%m%d').date()\n",
    "end_date = datetime.today()\n",
    "out_csv = f\"anime-{start_date.strftime('%Y%m%d')}-{end_date.strftime('%Y%m%d')}.csv\"\n",
    "\n",
    "i = anilist.download_anime_range(start_date, end_date, os.path.join(data_dir, out_csv))\n",
    "print(f\"{i} entries downloaded\")"
   ]
  }
 ],
 "metadata": {
  "kernelspec": {
   "display_name": "Python 3.10.4 64-bit",
   "language": "python",
   "name": "python3"
  },
  "language_info": {
   "codemirror_mode": {
    "name": "ipython",
    "version": 3
   },
   "file_extension": ".py",
   "mimetype": "text/x-python",
   "name": "python",
   "nbconvert_exporter": "python",
   "pygments_lexer": "ipython3",
   "version": "3.10.4"
  },
  "orig_nbformat": 4,
  "vscode": {
   "interpreter": {
    "hash": "916dbcbb3f70747c44a77c7bcd40155683ae19c65e1c03b4aa3499c5328201f1"
   }
  }
 },
 "nbformat": 4,
 "nbformat_minor": 2
}
