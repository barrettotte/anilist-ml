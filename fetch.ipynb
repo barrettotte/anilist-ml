{
 "cells": [
  {
   "cell_type": "markdown",
   "metadata": {},
   "source": [
    "# Fetch Data\n",
    "\n",
    "Fetches all Anilist data needed for practicing data visualization and machine learning."
   ]
  },
  {
   "cell_type": "code",
   "execution_count": 1,
   "metadata": {},
   "outputs": [
    {
     "ename": "Exception",
     "evalue": "Failed to request Anilist data.\nRequest body: {'query': 'query($id: Int!) {User(id: $id) {namecreatedAtstatistics {anime {countmeanScorestandardDeviationminutesWatchedepisodesWatched}manga {countmeanScorestandardDeviationchaptersReadvolumesRead}}avatar {large}}MediaListCollection(userId: $id, type: ANIME) {lists {namestatusentries {idstatusscore(format: POINT_10)progressprogressVolumescompletedAt {yearmonthday}media {id}}}}MediaListCollection(userId: $id, type: MANGA) {lists {namestatusentries {idstatusscore(format: POINT_10)progressprogressVolumescompletedAt {yearmonthday}media {id}}}}}', 'variables': {<built-in function id>: '247578'}}\n<Response [400]>",
     "output_type": "error",
     "traceback": [
      "\u001b[0;31m---------------------------------------------------------------------------\u001b[0m",
      "\u001b[0;31mException\u001b[0m                                 Traceback (most recent call last)",
      "Cell \u001b[0;32mIn [1], line 3\u001b[0m\n\u001b[1;32m      1\u001b[0m \u001b[38;5;28;01mfrom\u001b[39;00m \u001b[38;5;21;01manilist_data\u001b[39;00m \u001b[38;5;28;01mimport\u001b[39;00m fetch \u001b[38;5;28;01mas\u001b[39;00m anilist\n\u001b[0;32m----> 3\u001b[0m \u001b[43manilist\u001b[49m\u001b[38;5;241;43m.\u001b[39;49m\u001b[43mget_user\u001b[49m\u001b[43m(\u001b[49m\u001b[38;5;124;43m'\u001b[39;49m\u001b[38;5;124;43m247578\u001b[39;49m\u001b[38;5;124;43m'\u001b[39;49m\u001b[43m)\u001b[49m\n",
      "File \u001b[0;32m~/repos/anilist-ml/anilist_data/fetch.py:36\u001b[0m, in \u001b[0;36mget_user\u001b[0;34m(user_id)\u001b[0m\n\u001b[1;32m     32\u001b[0m \u001b[39mdef\u001b[39;00m \u001b[39mget_user\u001b[39m(user_id: \u001b[39mstr\u001b[39m) \u001b[39m-\u001b[39m\u001b[39m>\u001b[39m \u001b[39mdict\u001b[39m:\n\u001b[1;32m     33\u001b[0m     \u001b[39m'''\u001b[39;00m\n\u001b[1;32m     34\u001b[0m \u001b[39m    Fetches Anilist user data\u001b[39;00m\n\u001b[1;32m     35\u001b[0m \u001b[39m    '''\u001b[39;00m\n\u001b[0;32m---> 36\u001b[0m     \u001b[39mreturn\u001b[39;00m anilist_req(gql_src(\u001b[39m'\u001b[39;49m\u001b[39mgql/user.gql\u001b[39;49m\u001b[39m'\u001b[39;49m), {\u001b[39mid\u001b[39;49m: user_id})\n",
      "File \u001b[0;32m~/repos/anilist-ml/anilist_data/fetch.py:29\u001b[0m, in \u001b[0;36manilist_req\u001b[0;34m(gql, variables)\u001b[0m\n\u001b[1;32m     27\u001b[0m resp \u001b[39m=\u001b[39m requests\u001b[39m.\u001b[39mpost(ANILIST_API, headers\u001b[39m=\u001b[39mheaders, data\u001b[39m=\u001b[39mbody, timeout\u001b[39m=\u001b[39mTIMEOUT_SECS)\n\u001b[1;32m     28\u001b[0m \u001b[39mif\u001b[39;00m resp\u001b[39m.\u001b[39mstatus_code \u001b[39m!=\u001b[39m \u001b[39m200\u001b[39m:\n\u001b[0;32m---> 29\u001b[0m     \u001b[39mraise\u001b[39;00m \u001b[39mException\u001b[39;00m(\u001b[39mf\u001b[39m\u001b[39m'\u001b[39m\u001b[39mFailed to request Anilist data.\u001b[39m\u001b[39m\\n\u001b[39;00m\u001b[39mRequest body: \u001b[39m\u001b[39m{\u001b[39;00mbody\u001b[39m}\u001b[39;00m\u001b[39m\\n\u001b[39;00m\u001b[39m{\u001b[39;00mresp\u001b[39m}\u001b[39;00m\u001b[39m'\u001b[39m)\n\u001b[1;32m     30\u001b[0m \u001b[39mreturn\u001b[39;00m resp\u001b[39m.\u001b[39mjson()\n",
      "\u001b[0;31mException\u001b[0m: Failed to request Anilist data.\nRequest body: {'query': 'query($id: Int!) {User(id: $id) {namecreatedAtstatistics {anime {countmeanScorestandardDeviationminutesWatchedepisodesWatched}manga {countmeanScorestandardDeviationchaptersReadvolumesRead}}avatar {large}}MediaListCollection(userId: $id, type: ANIME) {lists {namestatusentries {idstatusscore(format: POINT_10)progressprogressVolumescompletedAt {yearmonthday}media {id}}}}MediaListCollection(userId: $id, type: MANGA) {lists {namestatusentries {idstatusscore(format: POINT_10)progressprogressVolumescompletedAt {yearmonthday}media {id}}}}}', 'variables': {<built-in function id>: '247578'}}\n<Response [400]>"
     ]
    }
   ],
   "source": [
    "from anilist_data import fetch as anilist\n",
    "\n",
    "anilist.get_user(247578)['data']['User']"
   ]
  }
 ],
 "metadata": {
  "kernelspec": {
   "display_name": "Python 3.10.4 64-bit",
   "language": "python",
   "name": "python3"
  },
  "language_info": {
   "codemirror_mode": {
    "name": "ipython",
    "version": 3
   },
   "file_extension": ".py",
   "mimetype": "text/x-python",
   "name": "python",
   "nbconvert_exporter": "python",
   "pygments_lexer": "ipython3",
   "version": "3.10.4"
  },
  "orig_nbformat": 4,
  "vscode": {
   "interpreter": {
    "hash": "916dbcbb3f70747c44a77c7bcd40155683ae19c65e1c03b4aa3499c5328201f1"
   }
  }
 },
 "nbformat": 4,
 "nbformat_minor": 2
}
