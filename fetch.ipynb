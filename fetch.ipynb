{
 "cells": [
  {
   "cell_type": "markdown",
   "metadata": {},
   "source": [
    "# Fetch Data\n",
    "\n",
    "Fetches all Anilist data needed for practicing data visualization and machine learning."
   ]
  },
  {
   "cell_type": "code",
   "execution_count": 1,
   "metadata": {},
   "outputs": [],
   "source": [
    "import csv\n",
    "import json\n",
    "import os\n",
    "import traceback\n",
    "from datetime import datetime\n",
    "from anilist_fetch import fetch as anilist"
   ]
  },
  {
   "cell_type": "code",
   "execution_count": 2,
   "metadata": {},
   "outputs": [],
   "source": [
    "# config\n",
    "\n",
    "data_dir = os.path.abspath('data')\n",
    "if not os.path.exists(data_dir):\n",
    "    os.makedirs(data_dir)\n",
    "\n",
    "today = datetime.today().strftime('%Y%m%d')"
   ]
  },
  {
   "cell_type": "markdown",
   "metadata": {},
   "source": [
    "## Fetch User Data"
   ]
  },
  {
   "cell_type": "code",
   "execution_count": 2,
   "metadata": {},
   "outputs": [
    {
     "name": "stdout",
     "output_type": "stream",
     "text": [
      "{'name': 'barrettotte', 'createdAt': 1552085204, 'statistics': {'anime': {'count': 605, 'meanScore': 68.92, 'standardDeviation': 15.9, 'minutesWatched': 198795, 'episodesWatched': 8138}}}\n"
     ]
    }
   ],
   "source": [
    "ANILIST_USER_ID = 247578\n",
    "user = anilist.get_user(ANILIST_USER_ID)\n",
    "print(user['user'])\n",
    "\n",
    "# write user anime entries to CSV\n",
    "with open(os.path.join(data_dir, f\"user-{today}-raw.csv\"), 'w+', encoding='utf-8') as f:\n",
    "    writer = csv.writer(f)\n",
    "    writer.writerow(['media_id', 'status', 'score', 'progress', 'completedAt'])\n",
    "\n",
    "    for media_list in user['lists']:\n",
    "        for entry in media_list['entries']:\n",
    "            data = [entry['media']['id'], entry['status'], entry['score'], entry['progress'], None]\n",
    "            completed_at = entry['completedAt']\n",
    "\n",
    "            if completed_at['year'] and completed_at['month'] and completed_at['day']:\n",
    "                data[4] = f\"{completed_at['month']:02d}-{completed_at['day']:02d}-{completed_at['year']}\"\n",
    "\n",
    "            writer.writerow(data)"
   ]
  },
  {
   "cell_type": "markdown",
   "metadata": {},
   "source": [
    "## Fetch All Anime Entries\n",
    "\n",
    "Takes around 10-15 minutes to fetch everything while not hitting Anilist's API rate limiter."
   ]
  },
  {
   "cell_type": "code",
   "execution_count": 3,
   "metadata": {},
   "outputs": [
    {
     "name": "stdout",
     "output_type": "stream",
     "text": [
      "Downloading page 332 => Entries 16551-16600\n",
      "16551 entries downloaded\n"
     ]
    }
   ],
   "source": [
    "anime_count = anilist.download_anime_range(os.path.join(data_dir, f\"anime-{today}-raw.csv\"))\n",
    "print(f\"\\n{anime_count} entries downloaded\")"
   ]
  }
 ],
 "metadata": {
  "kernelspec": {
   "display_name": "Python 3.9.12 ('base')",
   "language": "python",
   "name": "python3"
  },
  "language_info": {
   "codemirror_mode": {
    "name": "ipython",
    "version": 3
   },
   "file_extension": ".py",
   "mimetype": "text/x-python",
   "name": "python",
   "nbconvert_exporter": "python",
   "pygments_lexer": "ipython3",
   "version": "3.9.12"
  },
  "orig_nbformat": 4,
  "vscode": {
   "interpreter": {
    "hash": "ad2bdc8ecc057115af97d19610ffacc2b4e99fae6737bb82f5d7fb13d2f2c186"
   }
  }
 },
 "nbformat": 4,
 "nbformat_minor": 2
}
