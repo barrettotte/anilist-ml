{
 "cells": [
  {
   "cell_type": "markdown",
   "metadata": {},
   "source": [
    "# Fetch Data\n",
    "\n",
    "Fetches all Anilist data needed for practicing data visualization and machine learning."
   ]
  },
  {
   "cell_type": "code",
   "execution_count": 1,
   "metadata": {},
   "outputs": [],
   "source": [
    "from anilist_data import fetch as anilist"
   ]
  },
  {
   "cell_type": "code",
   "execution_count": 4,
   "metadata": {},
   "outputs": [
    {
     "data": {
      "text/plain": [
       "{'name': 'barrettotte',\n",
       " 'createdAt': 1552085204,\n",
       " 'statistics': {'anime': {'count': 605,\n",
       "   'meanScore': 68.93,\n",
       "   'standardDeviation': 15.9,\n",
       "   'minutesWatched': 198339,\n",
       "   'episodesWatched': 8119}}}"
      ]
     },
     "execution_count": 4,
     "metadata": {},
     "output_type": "execute_result"
    }
   ],
   "source": [
    "anilist.get_user(247578)['user']"
   ]
  },
  {
   "cell_type": "code",
   "execution_count": 5,
   "metadata": {},
   "outputs": [
    {
     "data": {
      "text/plain": [
       "[{'id': 59107597,\n",
       "  'status': 'COMPLETED',\n",
       "  'score': 7,\n",
       "  'progress': 12,\n",
       "  'completedAt': {'year': 2019, 'month': 4, 'day': 8},\n",
       "  'media': {'id': 99725}},\n",
       " {'id': 59107598,\n",
       "  'status': 'COMPLETED',\n",
       "  'score': 7,\n",
       "  'progress': 12,\n",
       "  'completedAt': {'year': 2019, 'month': 11, 'day': 1},\n",
       "  'media': {'id': 98251}},\n",
       " {'id': 59107599,\n",
       "  'status': 'COMPLETED',\n",
       "  'score': 7,\n",
       "  'progress': 12,\n",
       "  'completedAt': {'year': 2022, 'month': 4, 'day': 6},\n",
       "  'media': {'id': 21058}}]"
      ]
     },
     "execution_count": 5,
     "metadata": {},
     "output_type": "execute_result"
    }
   ],
   "source": [
    "anilist.get_user(247578)['lists'][0]['entries'][0:3]"
   ]
  },
  {
   "cell_type": "code",
   "execution_count": 7,
   "metadata": {},
   "outputs": [
    {
     "name": "stdout",
     "output_type": "stream",
     "text": [
      "ONE PIECE 1999 ['Action', 'Adventure', 'Comedy', 'Drama', 'Fantasy']\n"
     ]
    }
   ],
   "source": [
    "a = anilist.get_anime(21)\n",
    "print(a['title']['english'], a['seasonYear'], a['genres'])"
   ]
  },
  {
   "cell_type": "code",
   "execution_count": null,
   "metadata": {},
   "outputs": [],
   "source": []
  }
 ],
 "metadata": {
  "kernelspec": {
   "display_name": "Python 3.10.4 64-bit",
   "language": "python",
   "name": "python3"
  },
  "language_info": {
   "codemirror_mode": {
    "name": "ipython",
    "version": 3
   },
   "file_extension": ".py",
   "mimetype": "text/x-python",
   "name": "python",
   "nbconvert_exporter": "python",
   "pygments_lexer": "ipython3",
   "version": "3.10.4"
  },
  "orig_nbformat": 4,
  "vscode": {
   "interpreter": {
    "hash": "916dbcbb3f70747c44a77c7bcd40155683ae19c65e1c03b4aa3499c5328201f1"
   }
  }
 },
 "nbformat": 4,
 "nbformat_minor": 2
}
